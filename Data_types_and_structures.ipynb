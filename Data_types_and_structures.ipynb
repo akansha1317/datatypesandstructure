{
  "nbformat": 4,
  "nbformat_minor": 0,
  "metadata": {
    "colab": {
      "provenance": []
    },
    "kernelspec": {
      "name": "python3",
      "display_name": "Python 3"
    },
    "language_info": {
      "name": "python"
    }
  },
  "cells": [
    {
      "cell_type": "markdown",
      "source": [
        "###Data types and Structures questions\n"
      ],
      "metadata": {
        "id": "U-Y2FJYSkv6i"
      }
    },
    {
      "cell_type": "markdown",
      "source": [
        "1. What are data structures, and why are they important?\n",
        " - Data structures are ways to organize and store information so it's easy to use. Think of it like how you keep your stuff in different boxes or drawers at home, depending on what it is and how often you need it.\n",
        "\n",
        "Why Are Data Structures Important?\n",
        "\n",
        "-Organize Things: They help keep data in a way that makes it easy to find and use.\n",
        "\n",
        "-Save Time: They help you do things faster. For example, finding something in a dictionary (hash table) is quicker than searching through a big list.\n",
        "\n",
        "-Solve Problems: Different problems need different ways to organize data. For example, a queue is perfect for waiting in line.\n",
        "\n",
        "-Save Space: Some data structures help save memory by using less space to store things.\n",
        "\n",
        "-Make Programming Easier: They make your code simpler and faster."
      ],
      "metadata": {
        "id": "_NDXN-_hk4Ix"
      }
    },
    {
      "cell_type": "markdown",
      "source": [
        "2. Explain the difference between mutable and immutable data types with examples?\n",
        " - Mutable Data Types: These are types of data that can be changed after they are created. You can modify, add, or remove elements in them.\n",
        "\n",
        "Immutable Data Types: These are types of data that cannot be changed after they are created. Once you create an object of this type, you cannot alter it.\n",
        "\n",
        "Mutable Data Types:\n",
        "Lists: You can change the elements inside a list. For example, you can add, remove, or modify elements in the list.\n",
        "\n",
        "Example:"
      ],
      "metadata": {
        "id": "hsLmCHZQlyoT"
      }
    },
    {
      "cell_type": "code",
      "source": [
        "my_list = [1, 2, 3]\n",
        "my_list[0] = 10  # Changing the first element\n",
        "print(my_list)  # Output: [10, 2, 3]\n"
      ],
      "metadata": {
        "colab": {
          "base_uri": "https://localhost:8080/"
        },
        "id": "p5GE9YRSmvNj",
        "outputId": "3eced5bd-122b-43aa-c450-6323e109300f"
      },
      "execution_count": 1,
      "outputs": [
        {
          "output_type": "stream",
          "name": "stdout",
          "text": [
            "[10, 2, 3]\n"
          ]
        }
      ]
    },
    {
      "cell_type": "markdown",
      "source": [
        "Dictionaries: You can change the values or add new key-value pairs in a dictionary."
      ],
      "metadata": {
        "id": "aiwEOPSorHqI"
      }
    },
    {
      "cell_type": "code",
      "source": [
        "my_dict = {'a': 1, 'b': 2}\n",
        "my_dict['a'] = 5  # Changing the value of key 'a'\n",
        "print(my_dict)  # Output: {'a': 5, 'b': 2}\n"
      ],
      "metadata": {
        "colab": {
          "base_uri": "https://localhost:8080/"
        },
        "id": "b8dG3YBDrJE4",
        "outputId": "bccc76f1-9b67-461a-cb34-867daf405da8"
      },
      "execution_count": 2,
      "outputs": [
        {
          "output_type": "stream",
          "name": "stdout",
          "text": [
            "{'a': 5, 'b': 2}\n"
          ]
        }
      ]
    },
    {
      "cell_type": "markdown",
      "source": [
        "Immutable Data Types:\n",
        "Strings: Once you create a string, you cannot change its characters. If you try to modify it, a new string is created."
      ],
      "metadata": {
        "id": "xHL4d1llrNWB"
      }
    },
    {
      "cell_type": "code",
      "source": [
        "my_string = \"hello\"\n",
        "# This will give an error, as strings are immutable\n",
        "# my_string[0] = 'H'\n",
        "my_string = \"Hello\"  # Creating a new string instead\n",
        "print(my_string)  # Output: Hello\n"
      ],
      "metadata": {
        "colab": {
          "base_uri": "https://localhost:8080/"
        },
        "id": "8vUC2RshrQ2g",
        "outputId": "ba9316f0-efc5-439d-e33e-591096f08e5c"
      },
      "execution_count": 3,
      "outputs": [
        {
          "output_type": "stream",
          "name": "stdout",
          "text": [
            "Hello\n"
          ]
        }
      ]
    },
    {
      "cell_type": "markdown",
      "source": [
        "Tuples: You cannot change the elements in a tuple after it's created. If you want to change it, you would need to create a new tuple."
      ],
      "metadata": {
        "id": "SmA_EQGxrYro"
      }
    },
    {
      "cell_type": "code",
      "source": [
        "my_tuple = (1, 2, 3)\n",
        "# This will give an error, as tuples are immutable\n",
        "# my_tuple[0] = 10\n",
        "my_tuple = (10, 2, 3)  # Creating a new tuple instead\n",
        "print(my_tuple)  # Output: (10, 2, 3)\n"
      ],
      "metadata": {
        "colab": {
          "base_uri": "https://localhost:8080/"
        },
        "id": "XNerZrsTrZtA",
        "outputId": "023ef075-3d70-4dc0-b808-95bcdbe8790c"
      },
      "execution_count": 4,
      "outputs": [
        {
          "output_type": "stream",
          "name": "stdout",
          "text": [
            "(10, 2, 3)\n"
          ]
        }
      ]
    },
    {
      "cell_type": "markdown",
      "source": [
        "3. What are the main differences between lists and tuples in Python?\n",
        "\n",
        "| Feature                | List                               | Tuple                              |\n",
        "|------------------------|------------------------------------|------------------------------------|\n",
        "| **Mutability**          | Mutable (can be changed)           | Immutable (cannot be changed)      |\n",
        "| **Syntax**              | Created with `[]`                  | Created with `()`                  |\n",
        "| **Performance**         | Slightly slower                    | Faster and uses less memory        |\n",
        "| **Use Cases**           | When elements need to be changed   | When elements should not change    |\n",
        "| **Methods**             | Many methods like `append()`, `remove()` | Fewer methods like `count()` and `index()` |\n",
        "| **Memory Usage**        | Uses more memory                   | Uses less memory                   |\n"
      ],
      "metadata": {
        "id": "3ZZhXOxfrc-A"
      }
    },
    {
      "cell_type": "markdown",
      "source": [
        "4. Describe how dictionaries store data?\n",
        " -\n",
        "Dictionaries in Python store data as key-value pairs, where each key is unique. You can access the value using the key. They are fast because Python uses hashing to find values quickly. Dictionaries are mutable, meaning you can add, remove, or change the key-value pairs."
      ],
      "metadata": {
        "id": "sW-CgEjwsaQn"
      }
    },
    {
      "cell_type": "markdown",
      "source": [
        "5. Why might you use a set instead of a list in Python?\n",
        " - You might use a **set** instead of a **list** in Python3 for these reasons:\n",
        "\n",
        "- **Uniqueness**: Sets automatically remove duplicate values, so if you need a collection with **unique** elements, a set is perfect.\n",
        "   \n",
        "- **Faster Lookups**: Sets provide **faster lookups** and checks for membership (whether an item exists) compared to lists, because of how they are stored.\n",
        "\n",
        "- **No Order**: Sets don’t care about the **order** of elements, so if the order isn’t important, a set works well.\n",
        "\n",
        "- **Efficient Operations**: Sets allow efficient operations like **union**, **intersection**, and **difference** (comparing sets), which are slower with lists.\n",
        "\n",
        "In short, use a set if you need fast access to unique items and don’t care about the order of elements."
      ],
      "metadata": {
        "id": "eKSmnvL7s_0g"
      }
    },
    {
      "cell_type": "markdown",
      "source": [
        "6. What is a string in Python, and how is it different from a list?\n",
        " - A **string** in Python is a collection of characters, like text, written inside quotes (`'Hello'` or `\"World\"`).\n",
        "\n",
        "### Difference Between String and List:\n",
        "\n",
        "1. **What They Store**:\n",
        "   - **String**: Only stores **text** (letters, numbers, or symbols as characters).\n",
        "   - **List**: Can store different types of things, like **numbers**, **strings**, or even other lists.\n",
        "\n",
        "2. **Can They Be Changed?**:\n",
        "   - **String**: You **cannot change** a character in a string after it's created (it's **immutable**).\n",
        "   - **List**: You **can change** the items in a list (it's **mutable**).\n",
        "\n",
        "3. **Examples**:\n",
        "   - **String**: `\"Hello\"`\n",
        "   - **List**: `[1, 2, 3]`\n",
        "\n",
        "So, a **string** is for text and cannot be changed, while a **list** can hold different things and can be changed."
      ],
      "metadata": {
        "id": "RnHODvCDtx1n"
      }
    },
    {
      "cell_type": "markdown",
      "source": [
        "7. How do tuples ensure data integrity in Python?\n",
        " - Tuples help keep data safe because once you create them, you **can't change** the values inside. This is called **immutability**.\n",
        "\n",
        "### How It Helps:\n",
        "1. **No Accidental Changes**: You can't accidentally modify the data.\n",
        "2. **Keeps Data Consistent**: Important data stays the same, like coordinates or dates, without risk of being altered.\n",
        "\n",
        "So, tuples make sure the data you store in them stays **unchanged** and **secure**."
      ],
      "metadata": {
        "id": "-Dnz50qzuvzv"
      }
    },
    {
      "cell_type": "markdown",
      "source": [
        "8. P What is a hash table, and how does it relate to dictionaries in Python?\n",
        " - A hash table is a data structure that stores data in a way that allows for fast access to values using a unique key. It works by converting the key into a hash code, which helps quickly locate the corresponding value.\n",
        "\n",
        "- Python’s dictionaries are built using a hash table behind the scenes. When you use a key to get a value from a dictionary, Python uses a hash function to quickly find the location of that key."
      ],
      "metadata": {
        "id": "1PptzBYmvJT3"
      }
    },
    {
      "cell_type": "markdown",
      "source": [
        "9. Can lists contain different data types in Python?\n",
        " - Yes, lists in Python can contain different data types. A list is a flexible collection that can store items of various types, including integers, strings, floats, and even other lists or objects.\n",
        ""
      ],
      "metadata": {
        "id": "pEgToZNLvjZn"
      }
    },
    {
      "cell_type": "markdown",
      "source": [
        "10. Explain why strings are immutable in Python?\n",
        " - Strings in Python are **immutable** because once they are created, their contents cannot be changed. This decision is made for several reasons:\n",
        "\n",
        " ### 1.  **Efficiency**:\n",
        "   - **Memory Efficiency**: When a string is created, Python allocates a specific amount of memory for it. If strings were mutable, any change to a string would require reallocation of memory every time it's modified, which would be inefficient, especially for large strings.\n",
        "   \n",
        "### 2. **Security**:\n",
        "   - **Data Integrity**: By making strings immutable, you ensure that the data within the string remains constant throughout the program. This helps avoid accidental modifications and keeps the data safe.\n",
        "\n",
        "### 3. **Performance**:\n",
        "   - **Hashing**: Python uses strings as keys in dictionaries (hash tables). Since the hash value of a string depends on its content, having immutable strings ensures that the hash value stays the same throughout the program, making lookups in dictionaries fast and reliable.\n",
        "\n",
        "### 4. **Consistency**:\n",
        "   - **No Side Effects**: Making strings immutable means they cannot be changed by functions or methods, which avoids unexpected side effects that could arise if one part of a program accidentally changed the contents of a string.\n"
      ],
      "metadata": {
        "id": "Vh33Rz7Xv0Z_"
      }
    },
    {
      "cell_type": "markdown",
      "source": [],
      "metadata": {
        "id": "OCDECokCwVSX"
      }
    },
    {
      "cell_type": "markdown",
      "source": [
        "11. What advantages do dictionaries offer over lists for certain tasks?\n",
        " Dictionaries are better than lists for some tasks because:\n",
        " - Fast Lookups: You can quickly find data using a **key** in a dictionary, while in a list, you might have to search through all the items to find what you're looking for.\n",
        "\n",
        " - Unique Keys: In a dictionary, each **key** is unique, so you don't have to worry about duplicates. Lists can have repeated items.\n",
        "\n",
        " - Clearer Data: Dictionaries store data in a way that makes more sense, like **name**: **value** pairs, making it easier to understand.\n",
        "\n",
        " - Efficient Changes: It's easier to update or add new data in a dictionary because each item has a clear key. Lists are more about keeping items in order, so changing or finding something can take longer.\n"
      ],
      "metadata": {
        "id": "QP6-O3jiwY__"
      }
    },
    {
      "cell_type": "markdown",
      "source": [
        "12. Describe a scenario where using a tuple would be preferable over a list?\n",
        " - Scenario: Storing Coordinates\n",
        "Imagine you're working on a map application where you need to store a set of GPS coordinates (latitude and longitude). These values should never change during the program's execution because the position is fixed.\n",
        "\n",
        "In this case, using a tuple is a good choice because:\n",
        "\n",
        "Tuples are immutable, meaning their values can't be changed, ensuring that the coordinates stay the same.\n",
        "Tuples are faster than lists because they are smaller and don't require memory management for changes.\n",
        "\n",
        "example:-"
      ],
      "metadata": {
        "id": "euDfj3M5xG0Q"
      }
    },
    {
      "cell_type": "code",
      "source": [
        "# Using a tuple to store coordinates\n",
        "coordinates = (40.7128, -74.0060)  # (latitude, longitude)\n",
        "\n",
        "# You can't accidentally change the coordinates\n",
        "# coordinates[0] = 41.0  # This will raise an error because tuples are immutable\n"
      ],
      "metadata": {
        "id": "ASKBgJQixuxX"
      },
      "execution_count": 6,
      "outputs": []
    },
    {
      "cell_type": "markdown",
      "source": [
        "13. How do sets handle duplicate values in Python?\n",
        " - In Python, sets automatically remove duplicates. If you try to add the same value twice, it will only keep one copy of that value.\n",
        "\n",
        " example:-"
      ],
      "metadata": {
        "id": "lIA1m3_Ax37m"
      }
    },
    {
      "cell_type": "code",
      "source": [
        "my_set = {1, 2, 3, 3, 4, 5, 5}\n",
        "print(my_set)  # Output: {1, 2, 3, 4, 5}\n"
      ],
      "metadata": {
        "colab": {
          "base_uri": "https://localhost:8080/"
        },
        "id": "5UYUog2QyJhO",
        "outputId": "2abe9d6c-d7bc-4e6c-f22c-7e13b2058f54"
      },
      "execution_count": 7,
      "outputs": [
        {
          "output_type": "stream",
          "name": "stdout",
          "text": [
            "{1, 2, 3, 4, 5}\n"
          ]
        }
      ]
    },
    {
      "cell_type": "markdown",
      "source": [
        "14.  How does the “in” keyword work differently for lists and dictionaries?\n",
        " - . For Lists:\n",
        "When you use in with a list, it checks if an element exists in the list.\n",
        "\n",
        "Example with a list:"
      ],
      "metadata": {
        "id": "gKqP2oC6yNRw"
      }
    },
    {
      "cell_type": "code",
      "source": [
        "my_list = [1, 2, 3, 4]\n",
        "print(3 in my_list)  # Output: True (because 3 is in the list)\n",
        "print(5 in my_list)  # Output: False (because 5 is not in the list)\n"
      ],
      "metadata": {
        "colab": {
          "base_uri": "https://localhost:8080/"
        },
        "id": "BUuz2rzuyiR3",
        "outputId": "15fa668a-c6ff-4fc7-9a17-94bffdb24be5"
      },
      "execution_count": 8,
      "outputs": [
        {
          "output_type": "stream",
          "name": "stdout",
          "text": [
            "True\n",
            "False\n"
          ]
        }
      ]
    },
    {
      "cell_type": "markdown",
      "source": [
        "2. For Dictionaries:\n",
        "When you use in with a dictionary, it checks if the key exists in the dictionary, not the value.\n",
        "\n",
        "Example with a dictionary:"
      ],
      "metadata": {
        "id": "pwQwFzZdylRn"
      }
    },
    {
      "cell_type": "code",
      "source": [
        "my_dict = {'a': 1, 'b': 2, 'c': 3}\n",
        "print('a' in my_dict)  # Output: True (because 'a' is a key in the dictionary)\n",
        "print(1 in my_dict)    # Output: False (because 1 is not a key, it's a value)\n"
      ],
      "metadata": {
        "colab": {
          "base_uri": "https://localhost:8080/"
        },
        "id": "acsUkAMFypIf",
        "outputId": "6f254cef-9f88-4bd4-d449-51498cb16769"
      },
      "execution_count": 9,
      "outputs": [
        {
          "output_type": "stream",
          "name": "stdout",
          "text": [
            "True\n",
            "False\n"
          ]
        }
      ]
    },
    {
      "cell_type": "markdown",
      "source": [
        "15. Can you modify the elements of a tuple? Explain why or why not?\n",
        " - No, you cannot modify the elements of a tuple in Python. This is because tuples are immutable.\n",
        "\n",
        "Why can't you modify a tuple?\n",
        "Once a tuple is created, its elements cannot be changed, added, or removed.\n",
        "This behavior ensures that the data stored in a tuple stays constant and cannot be accidentally altered.\n",
        "Example:"
      ],
      "metadata": {
        "id": "QKXW4LODysLo"
      }
    },
    {
      "cell_type": "code",
      "source": [
        "my_tuple = (1, 2, 3)\n",
        "# Trying to modify an element will raise an error\n",
        "# my_tuple[0] = 10  # This will cause a TypeError because tuples are immutable\n"
      ],
      "metadata": {
        "id": "hfueMt-hzBm3"
      },
      "execution_count": 16,
      "outputs": []
    },
    {
      "cell_type": "markdown",
      "source": [
        "16. What is a nested dictionary, and give an example of its use case?\n",
        " - A nested dictionary in Python is a dictionary where one or more of its values are themselves dictionaries. This allows you to store data in a hierarchical structure.\n",
        "\n",
        "Example:\n",
        "Consider a dictionary that stores information about a company’s employees, where each employee has their own dictionary containing their details."
      ],
      "metadata": {
        "id": "yTRrA8LN1uPO"
      }
    },
    {
      "cell_type": "code",
      "source": [
        "company = {\n",
        "    \"Alice\": {\n",
        "        \"age\": 30,\n",
        "        \"position\": \"Manager\",\n",
        "        \"department\": \"HR\"\n",
        "    },\n",
        "    \"Bob\": {\n",
        "        \"age\": 25,\n",
        "        \"position\": \"Developer\",\n",
        "        \"department\": \"IT\"\n",
        "    },\n",
        "    \"Charlie\": {\n",
        "        \"age\": 28,\n",
        "        \"position\": \"Designer\",\n",
        "        \"department\": \"Marketing\"\n",
        "    }\n",
        "}\n"
      ],
      "metadata": {
        "id": "YuVtEhsO2uDe"
      },
      "execution_count": 14,
      "outputs": []
    },
    {
      "cell_type": "markdown",
      "source": [
        "Use Case:\n",
        "A nested dictionary is useful when you need to represent structured data, like:\n",
        "\n",
        "Storing employee records where each employee has details like age, job title, and department.\n",
        "Storing student records with subjects and grades for each student.\n",
        "Representing complex configurations where multiple settings are grouped together.\n",
        "Example Use Case:\n",
        "If you want to get Bob’s position from the nested dictionary:"
      ],
      "metadata": {
        "id": "VRJXCjk22zkd"
      }
    },
    {
      "cell_type": "code",
      "source": [
        "print(company[\"Bob\"][\"position\"])  # Output: Developer\n",
        "\n"
      ],
      "metadata": {
        "colab": {
          "base_uri": "https://localhost:8080/"
        },
        "id": "E_jJS9pw2202",
        "outputId": "87da59e8-eebd-43d6-e3f4-ad3c9587de85"
      },
      "execution_count": 13,
      "outputs": [
        {
          "output_type": "stream",
          "name": "stdout",
          "text": [
            "Developer\n"
          ]
        }
      ]
    },
    {
      "cell_type": "markdown",
      "source": [
        "17. Describe the time complexity of accessing elements in a dictionary?\n",
        " - Accessing elements in a dictionary is very fast, with a time complexity of O(1), which means it takes constant time, no matter how big the dictionary is.\n",
        "\n",
        "- Dictionaries use a hash table, which allows Python to quickly find where the value is stored using the key. So, looking up a key doesn't depend on how many items are in the dictionary.\n",
        "\n",
        "Example:"
      ],
      "metadata": {
        "id": "cqnRnrbD3ASl"
      }
    },
    {
      "cell_type": "code",
      "source": [
        "my_dict = {'apple': 1, 'banana': 2}\n",
        "print(my_dict['banana'])  # Output: 2\n"
      ],
      "metadata": {
        "colab": {
          "base_uri": "https://localhost:8080/"
        },
        "id": "fgNlE5m73lJO",
        "outputId": "dfc33f93-5ca7-4f91-e2dc-f027f533d908"
      },
      "execution_count": 15,
      "outputs": [
        {
          "output_type": "stream",
          "name": "stdout",
          "text": [
            "2\n"
          ]
        }
      ]
    },
    {
      "cell_type": "markdown",
      "source": [
        "18.  In what situations are lists preferred over dictionaries?\n",
        "  \n",
        "  Lists are better than dictionaries in these situations:\n",
        "\n",
        "- When the order of items matters: Lists keep the order of items, so if you need to access elements by their position, use a list.\n",
        "\n",
        "Example: A list of names in order:"
      ],
      "metadata": {
        "id": "9KsP674D3uSu"
      }
    },
    {
      "cell_type": "code",
      "source": [
        "names = [\"Alice\", \"Bob\", \"Charlie\"]\n"
      ],
      "metadata": {
        "id": "eiUKGzCQ3_ov"
      },
      "execution_count": 17,
      "outputs": []
    },
    {
      "cell_type": "markdown",
      "source": [
        "- When you don’t need key-value pairs: If you just need to store values without labels (keys), a list is simpler.\n",
        "\n",
        "Example: A list of ages:"
      ],
      "metadata": {
        "id": "UBOSfJ5B4GFN"
      }
    },
    {
      "cell_type": "code",
      "source": [
        "ages = [20, 25, 30]\n"
      ],
      "metadata": {
        "id": "CYVHncFw4KFv"
      },
      "execution_count": 18,
      "outputs": []
    },
    {
      "cell_type": "markdown",
      "source": [
        "- When you have similar items: Lists are great for storing many items of the same type, like numbers or strings.\n",
        "\n",
        "Example: A list of scores:"
      ],
      "metadata": {
        "id": "CTzemldE4M9u"
      }
    },
    {
      "cell_type": "code",
      "source": [
        "scores = [80, 90, 95]\n"
      ],
      "metadata": {
        "id": "Pahin2Wi4Pv-"
      },
      "execution_count": 19,
      "outputs": []
    },
    {
      "cell_type": "markdown",
      "source": [
        "- When you want to slice or modify elements: Lists allow you to change items, add new ones, or get parts of the list.\n",
        "\n",
        "Example: Getting part of a list:"
      ],
      "metadata": {
        "id": "rfzY_VtO4Snm"
      }
    },
    {
      "cell_type": "code",
      "source": [
        "numbers = [1, 2, 3, 4, 5]\n",
        "print(numbers[1:4])  # Output: [2, 3, 4]\n"
      ],
      "metadata": {
        "colab": {
          "base_uri": "https://localhost:8080/"
        },
        "id": "M0u3dk-S4VS9",
        "outputId": "e5401b8c-7b5a-4777-ae1d-034b1be37e3e"
      },
      "execution_count": 20,
      "outputs": [
        {
          "output_type": "stream",
          "name": "stdout",
          "text": [
            "[2, 3, 4]\n"
          ]
        }
      ]
    },
    {
      "cell_type": "markdown",
      "source": [
        "19. Why are dictionaries considered unordered, and how does that affect data retrieval?\n",
        " - Dictionaries in Python are unordered because they don't store items in any specific order. When you add items to a dictionary, they are placed in a way that makes looking them up fast, but not in the order you added them.\n",
        "\n",
        "Why are they unordered?\n",
        "- Python uses a method called hashing to quickly find the location of a key. This means the order of items is not important to the dictionary.\n",
        "How does this affect data retrieval?\n",
        "You can quickly find a value using its key (which is very fast), but you can’t rely on the order of items when you loop through the dictionary.\n",
        "Example:"
      ],
      "metadata": {
        "id": "XOx4nGIt4pLl"
      }
    },
    {
      "cell_type": "code",
      "source": [
        "my_dict = {'apple': 1, 'banana': 2, 'cherry': 3}\n",
        "for key in my_dict:\n",
        "    print(key)\n"
      ],
      "metadata": {
        "colab": {
          "base_uri": "https://localhost:8080/"
        },
        "id": "aOht8CJp4-tt",
        "outputId": "232ae765-61a8-4868-b2a7-a9d941380ebf"
      },
      "execution_count": 21,
      "outputs": [
        {
          "output_type": "stream",
          "name": "stdout",
          "text": [
            "apple\n",
            "banana\n",
            "cherry\n"
          ]
        }
      ]
    },
    {
      "cell_type": "markdown",
      "source": [
        "20. Explain the difference between a list and a dictionary in terms of data retrieval?\n",
        "\n",
        "  Main difference between a list and a dictionary in terms of data retrieval is how you access the elements:\n",
        "\n",
        " - List:\n",
        "Data retrieval is done by index.\n",
        "Lists are ordered, so the elements are accessed using their position (or index) in the list.\n",
        "The index starts from 0, so the first item is at index 0, the second at index 1, and so on.\n",
        "Example:"
      ],
      "metadata": {
        "id": "k5B7s82-5CD1"
      }
    },
    {
      "cell_type": "code",
      "source": [
        "my_list = [10, 20, 30, 40]\n",
        "print(my_list[2])  # Output: 30 (accessing by index)\n"
      ],
      "metadata": {
        "colab": {
          "base_uri": "https://localhost:8080/"
        },
        "id": "5E1UEbBl5ZR1",
        "outputId": "57f0aa1a-212b-480f-b890-0924c838886f"
      },
      "execution_count": 22,
      "outputs": [
        {
          "output_type": "stream",
          "name": "stdout",
          "text": [
            "30\n"
          ]
        }
      ]
    },
    {
      "cell_type": "markdown",
      "source": [
        "- Dictionary:\n",
        "Data retrieval is done by key.\n",
        "Dictionaries are unordered, and you access elements using their key, not an index.\n",
        "Each item is a key-value pair, where the key is unique, and the value is the data associated with that key.\n",
        "Example:"
      ],
      "metadata": {
        "id": "hYKSnj3q5cAN"
      }
    },
    {
      "cell_type": "code",
      "source": [
        "my_dict = {'apple': 1, 'banana': 2, 'cherry': 3}\n",
        "print(my_dict['banana'])  # Output: 2 (accessing by key)\n"
      ],
      "metadata": {
        "colab": {
          "base_uri": "https://localhost:8080/"
        },
        "id": "_E7QazPe5gtt",
        "outputId": "82d79b16-c181-48fe-829c-c5e879af3aa2"
      },
      "execution_count": 23,
      "outputs": [
        {
          "output_type": "stream",
          "name": "stdout",
          "text": [
            "2\n"
          ]
        }
      ]
    },
    {
      "cell_type": "markdown",
      "source": [
        "\n",
        "\n",
        "\n",
        "\n",
        "\n",
        "\n",
        "\n",
        "\n",
        "###Practical questions"
      ],
      "metadata": {
        "id": "S_VQMp4O5lnV"
      }
    },
    {
      "cell_type": "markdown",
      "source": [
        "1.  Write a code to create a string with your name and print it?\n"
      ],
      "metadata": {
        "id": "LJDcWAyo5yot"
      }
    },
    {
      "cell_type": "code",
      "source": [
        "# Create a string with your name\n",
        "name = \"Akansha\"\n",
        "\n",
        "# Print the string\n",
        "print(name)\n"
      ],
      "metadata": {
        "colab": {
          "base_uri": "https://localhost:8080/"
        },
        "id": "ri5QU0BO6FFl",
        "outputId": "8d7674ab-4ee0-4b17-e760-ad54a300819f"
      },
      "execution_count": 24,
      "outputs": [
        {
          "output_type": "stream",
          "name": "stdout",
          "text": [
            "Akansha\n"
          ]
        }
      ]
    },
    {
      "cell_type": "markdown",
      "source": [
        "2. Write a code to find the length of the string \"Hello World\"?"
      ],
      "metadata": {
        "id": "JSE30A-s6IYN"
      }
    },
    {
      "cell_type": "code",
      "source": [
        "# Define the string\n",
        "my_string = \"Hello World\"\n",
        "\n",
        "# Find and print the length of the string\n",
        "length = len(my_string)\n",
        "print(length)\n"
      ],
      "metadata": {
        "colab": {
          "base_uri": "https://localhost:8080/"
        },
        "id": "ALfVbZv36RO9",
        "outputId": "516dcb8e-6b4d-4e9f-9b6a-af1504c53c73"
      },
      "execution_count": 25,
      "outputs": [
        {
          "output_type": "stream",
          "name": "stdout",
          "text": [
            "11\n"
          ]
        }
      ]
    },
    {
      "cell_type": "markdown",
      "source": [
        "3.  Write a code to slice the first 3 characters from the string \"Python Programming\"?\n"
      ],
      "metadata": {
        "id": "XFFSjk-Z6TGd"
      }
    },
    {
      "cell_type": "code",
      "source": [
        "# Define the string\n",
        "my_string = \"Python Programming\"\n",
        "\n",
        "# Slice the first 3 characters\n",
        "sliced_string = my_string[:3]\n",
        "\n",
        "# Print the sliced string\n",
        "print(sliced_string)\n"
      ],
      "metadata": {
        "colab": {
          "base_uri": "https://localhost:8080/"
        },
        "id": "6MDO8u3N6W5s",
        "outputId": "6a905f81-7791-470e-d1e0-879e82e93669"
      },
      "execution_count": 26,
      "outputs": [
        {
          "output_type": "stream",
          "name": "stdout",
          "text": [
            "Pyt\n"
          ]
        }
      ]
    },
    {
      "cell_type": "markdown",
      "source": [
        "4. Write a code to convert the string \"hello\" to uppercase?\n"
      ],
      "metadata": {
        "id": "mcPXYpH_6eNt"
      }
    },
    {
      "cell_type": "code",
      "source": [
        "# Define the string\n",
        "my_string = \"hello\"\n",
        "\n",
        "# Convert the string to uppercase\n",
        "uppercase_string = my_string.upper()\n",
        "\n",
        "# Print the uppercase string\n",
        "print(uppercase_string)\n"
      ],
      "metadata": {
        "colab": {
          "base_uri": "https://localhost:8080/"
        },
        "id": "w45_C5kG6oJm",
        "outputId": "0934e5c7-03de-4cdd-807c-2a789a96bede"
      },
      "execution_count": 27,
      "outputs": [
        {
          "output_type": "stream",
          "name": "stdout",
          "text": [
            "HELLO\n"
          ]
        }
      ]
    },
    {
      "cell_type": "markdown",
      "source": [
        "5.  Write a code to replace the word \"apple\" with \"orange\" in the string \"I like apple\"?"
      ],
      "metadata": {
        "id": "1_80L3R_6qDt"
      }
    },
    {
      "cell_type": "code",
      "source": [
        "# Define the string\n",
        "my_string = \"I like apple\"\n",
        "\n",
        "# Replace \"apple\" with \"orange\"\n",
        "updated_string = my_string.replace(\"apple\", \"orange\")\n",
        "\n",
        "# Print the updated string\n",
        "print(updated_string)\n"
      ],
      "metadata": {
        "colab": {
          "base_uri": "https://localhost:8080/"
        },
        "id": "l8OugG8e6vT9",
        "outputId": "4643cc08-237b-452c-c96b-9cb705e90bd7"
      },
      "execution_count": 28,
      "outputs": [
        {
          "output_type": "stream",
          "name": "stdout",
          "text": [
            "I like orange\n"
          ]
        }
      ]
    },
    {
      "cell_type": "markdown",
      "source": [
        "6. Write a code to create a list with numbers 1 to 5 and print it?\n"
      ],
      "metadata": {
        "id": "eOIlw9-863It"
      }
    },
    {
      "cell_type": "code",
      "source": [
        "# Create a list with numbers 1 to 5\n",
        "my_list = [1, 2, 3, 4, 5]\n",
        "\n",
        "# Print the list\n",
        "print(my_list)\n"
      ],
      "metadata": {
        "colab": {
          "base_uri": "https://localhost:8080/"
        },
        "id": "4b2nwog567SV",
        "outputId": "06ea687a-4b20-4405-e7bc-13cacbef127d"
      },
      "execution_count": 29,
      "outputs": [
        {
          "output_type": "stream",
          "name": "stdout",
          "text": [
            "[1, 2, 3, 4, 5]\n"
          ]
        }
      ]
    },
    {
      "cell_type": "markdown",
      "source": [
        "7. Write a code to append the number 10 to the list [1, 2, 3, 4].?"
      ],
      "metadata": {
        "id": "5zpT4ZpK7BYV"
      }
    },
    {
      "cell_type": "code",
      "source": [
        "# Define the list\n",
        "my_list = [1, 2, 3, 4]\n",
        "\n",
        "# Append the number 10 to the list\n",
        "my_list.append(10)\n",
        "\n",
        "# Print the updated list\n",
        "print(my_list)\n"
      ],
      "metadata": {
        "colab": {
          "base_uri": "https://localhost:8080/"
        },
        "id": "KJ745CNs7JO2",
        "outputId": "0f544d31-e292-4aa0-9d80-a0eaca7f8d9a"
      },
      "execution_count": 30,
      "outputs": [
        {
          "output_type": "stream",
          "name": "stdout",
          "text": [
            "[1, 2, 3, 4, 10]\n"
          ]
        }
      ]
    },
    {
      "cell_type": "markdown",
      "source": [
        "8. Write a code to remove the number 3 from the list [1, 2, 3, 4, 5]?\n"
      ],
      "metadata": {
        "id": "y3w83hAY7L39"
      }
    },
    {
      "cell_type": "code",
      "source": [
        "# Define the list\n",
        "my_list = [1, 2, 3, 4, 5]\n",
        "\n",
        "# Remove the number 3 from the list\n",
        "my_list.remove(3)\n",
        "\n",
        "# Print the updated list\n",
        "print(my_list)\n"
      ],
      "metadata": {
        "colab": {
          "base_uri": "https://localhost:8080/"
        },
        "id": "_A1A655Y7QPV",
        "outputId": "18e71260-e810-4bc5-9f9d-8646585add2f"
      },
      "execution_count": 31,
      "outputs": [
        {
          "output_type": "stream",
          "name": "stdout",
          "text": [
            "[1, 2, 4, 5]\n"
          ]
        }
      ]
    },
    {
      "cell_type": "markdown",
      "source": [
        "9. Write a code to access the second element in the list ['a', 'b', 'c', 'd']?\n"
      ],
      "metadata": {
        "id": "6S6mlOOV7WRG"
      }
    },
    {
      "cell_type": "code",
      "source": [
        "# Define the list\n",
        "my_list = ['a', 'b', 'c', 'd']\n",
        "\n",
        "# Access the second element (index 1)\n",
        "second_element = my_list[1]\n",
        "\n",
        "# Print the second element\n",
        "print(second_element)\n"
      ],
      "metadata": {
        "colab": {
          "base_uri": "https://localhost:8080/"
        },
        "id": "SWD5jX2i7aEs",
        "outputId": "173115e3-f3f0-4e96-c295-ff4643662034"
      },
      "execution_count": 32,
      "outputs": [
        {
          "output_type": "stream",
          "name": "stdout",
          "text": [
            "b\n"
          ]
        }
      ]
    },
    {
      "cell_type": "markdown",
      "source": [
        "10. Write a code to reverse the list [10, 20, 30, 40, 50].?\n"
      ],
      "metadata": {
        "id": "wZ8YjEop7gGt"
      }
    },
    {
      "cell_type": "code",
      "source": [
        "# Define the list\n",
        "my_list = [10, 20, 30, 40, 50]\n",
        "\n",
        "# Reverse the list\n",
        "my_list.reverse()\n",
        "\n",
        "# Print the reversed list\n",
        "print(my_list)\n"
      ],
      "metadata": {
        "colab": {
          "base_uri": "https://localhost:8080/"
        },
        "id": "xDDh2_vR7nAG",
        "outputId": "57b36748-f5dd-446a-a74a-ddf251a4d070"
      },
      "execution_count": 33,
      "outputs": [
        {
          "output_type": "stream",
          "name": "stdout",
          "text": [
            "[50, 40, 30, 20, 10]\n"
          ]
        }
      ]
    },
    {
      "cell_type": "markdown",
      "source": [
        "11. Write a code to create a tuple with the elements 100, 200, 300 and print it\n"
      ],
      "metadata": {
        "id": "LvfdZigH7s9d"
      }
    },
    {
      "cell_type": "code",
      "source": [
        "# Create the tuple\n",
        "my_tuple = (100, 200, 300)\n",
        "\n",
        "# Print the tuple\n",
        "print(my_tuple)\n"
      ],
      "metadata": {
        "colab": {
          "base_uri": "https://localhost:8080/"
        },
        "id": "CxvmTWt57yfd",
        "outputId": "a4980569-4955-4f6b-b504-c7354bfd3925"
      },
      "execution_count": 34,
      "outputs": [
        {
          "output_type": "stream",
          "name": "stdout",
          "text": [
            "(100, 200, 300)\n"
          ]
        }
      ]
    },
    {
      "cell_type": "markdown",
      "source": [
        "12.  Write a code to access the second-to-last element of the tuple ('red', 'green', 'blue', 'yellow')"
      ],
      "metadata": {
        "id": "0G8rs56J756V"
      }
    },
    {
      "cell_type": "code",
      "source": [
        "# Define the tuple\n",
        "my_tuple = ('red', 'green', 'blue', 'yellow')\n",
        "\n",
        "# Access the second-to-last element\n",
        "second_to_last = my_tuple[-2]\n",
        "\n",
        "# Print the second-to-last element\n",
        "print(second_to_last)\n"
      ],
      "metadata": {
        "colab": {
          "base_uri": "https://localhost:8080/"
        },
        "id": "yq8_bK197-K0",
        "outputId": "ea617448-1584-4b96-b557-46603e3274d1"
      },
      "execution_count": 35,
      "outputs": [
        {
          "output_type": "stream",
          "name": "stdout",
          "text": [
            "blue\n"
          ]
        }
      ]
    },
    {
      "cell_type": "markdown",
      "source": [
        "13.  Write a code to find the minimum number in the tuple (10, 20, 5, 15)."
      ],
      "metadata": {
        "id": "FcK0O4fx8Dul"
      }
    },
    {
      "cell_type": "code",
      "source": [
        "# Define the tuple\n",
        "my_tuple = (10, 20, 5, 15)\n",
        "\n",
        "# Find the minimum number in the tuple\n",
        "min_value = min(my_tuple)\n",
        "\n",
        "# Print the minimum value\n",
        "print(min_value)\n"
      ],
      "metadata": {
        "colab": {
          "base_uri": "https://localhost:8080/"
        },
        "id": "43W0iuFq8JsF",
        "outputId": "9a9c1179-3ab4-4133-f463-691677caf238"
      },
      "execution_count": 36,
      "outputs": [
        {
          "output_type": "stream",
          "name": "stdout",
          "text": [
            "5\n"
          ]
        }
      ]
    },
    {
      "cell_type": "markdown",
      "source": [
        "14. Write a code to find the index of the element \"cat\" in the tuple ('dog', 'cat', 'rabbit')."
      ],
      "metadata": {
        "id": "4skrUbzy8PuE"
      }
    },
    {
      "cell_type": "code",
      "source": [
        "# Define the tuple\n",
        "my_tuple = ('dog', 'cat', 'rabbit')\n",
        "\n",
        "# Find the index of the element \"cat\"\n",
        "index_of_cat = my_tuple.index('cat')\n",
        "\n",
        "# Print the index\n",
        "print(index_of_cat)\n"
      ],
      "metadata": {
        "colab": {
          "base_uri": "https://localhost:8080/"
        },
        "id": "VWYak0t38TWV",
        "outputId": "c3fbcecd-8680-4e3a-9c32-2101f44682cb"
      },
      "execution_count": 37,
      "outputs": [
        {
          "output_type": "stream",
          "name": "stdout",
          "text": [
            "1\n"
          ]
        }
      ]
    },
    {
      "cell_type": "markdown",
      "source": [
        "15. Write a code to create a tuple containing three different fruits and check if \"kiwi\" is in it."
      ],
      "metadata": {
        "id": "MFfxGQhd8aZs"
      }
    },
    {
      "cell_type": "code",
      "source": [
        "# Create the tuple with fruits\n",
        "fruits_tuple = ('apple', 'banana', 'cherry')\n",
        "\n",
        "# Check if \"kiwi\" is in the tuple\n",
        "is_kiwi_present = 'kiwi' in fruits_tuple\n",
        "\n",
        "# Print the result\n",
        "print(is_kiwi_present)\n"
      ],
      "metadata": {
        "colab": {
          "base_uri": "https://localhost:8080/"
        },
        "id": "ashml3zd8d_m",
        "outputId": "d83271d3-8afb-4893-e301-16c7a5ee6598"
      },
      "execution_count": 38,
      "outputs": [
        {
          "output_type": "stream",
          "name": "stdout",
          "text": [
            "False\n"
          ]
        }
      ]
    },
    {
      "cell_type": "markdown",
      "source": [
        "16. Write a code to create a set with the elements 'a', 'b', 'c' and print it.\n",
        "\n"
      ],
      "metadata": {
        "id": "KERQI_Z78lBE"
      }
    },
    {
      "cell_type": "code",
      "source": [
        "my_set = {'a', 'b', 'c'}\n",
        "print(my_set)"
      ],
      "metadata": {
        "colab": {
          "base_uri": "https://localhost:8080/"
        },
        "id": "z5KgaZpD88m0",
        "outputId": "e15631d8-d6b8-425c-ffc3-d0bebdd278b8"
      },
      "execution_count": 41,
      "outputs": [
        {
          "output_type": "stream",
          "name": "stdout",
          "text": [
            "{'c', 'b', 'a'}\n"
          ]
        }
      ]
    },
    {
      "cell_type": "markdown",
      "source": [
        "17.  Write a code to clear all elements from the set {1, 2, 3, 4, 5}"
      ],
      "metadata": {
        "id": "VAsFo6Ke9AGN"
      }
    },
    {
      "cell_type": "code",
      "source": [
        "# Define the set\n",
        "my_set = {1, 2, 3, 4, 5}\n",
        "\n",
        "# Clear all elements from the set\n",
        "my_set.clear()\n",
        "\n",
        "# Print the empty set\n",
        "print(my_set)\n"
      ],
      "metadata": {
        "colab": {
          "base_uri": "https://localhost:8080/"
        },
        "id": "bWATFBH89EIo",
        "outputId": "ae437bd2-f141-4f1b-bb49-4b24515489e6"
      },
      "execution_count": 42,
      "outputs": [
        {
          "output_type": "stream",
          "name": "stdout",
          "text": [
            "set()\n"
          ]
        }
      ]
    },
    {
      "cell_type": "markdown",
      "source": [
        "18. Write a code to remove the element 4 from the set {1, 2, 3, 4}."
      ],
      "metadata": {
        "id": "LLGweYiO9JoM"
      }
    },
    {
      "cell_type": "code",
      "source": [
        "# Define the set\n",
        "my_set = {1, 2, 3, 4}\n",
        "\n",
        "# Remove the element 4 from the set\n",
        "my_set.remove(4)\n",
        "\n",
        "# Print the updated set\n",
        "print(my_set)\n"
      ],
      "metadata": {
        "colab": {
          "base_uri": "https://localhost:8080/"
        },
        "id": "xfG8IGbl9Nqk",
        "outputId": "6a3fc0bf-d817-40ba-da49-c4640dd1bc7d"
      },
      "execution_count": 43,
      "outputs": [
        {
          "output_type": "stream",
          "name": "stdout",
          "text": [
            "{1, 2, 3}\n"
          ]
        }
      ]
    },
    {
      "cell_type": "markdown",
      "source": [
        "19.  Write a code to find the union of two sets {1, 2, 3} and {3, 4, 5}."
      ],
      "metadata": {
        "id": "oynqZhG69TNs"
      }
    },
    {
      "cell_type": "code",
      "source": [
        "# Define the sets\n",
        "set1 = {1, 2, 3}\n",
        "set2 = {3, 4, 5}\n",
        "\n",
        "# Find the union of the two sets\n",
        "union_set = set1 | set2\n",
        "\n",
        "# Print the union of the sets\n",
        "print(union_set)\n"
      ],
      "metadata": {
        "colab": {
          "base_uri": "https://localhost:8080/"
        },
        "id": "aPt7nSA29WkF",
        "outputId": "36981b56-544e-4d9e-f8ef-90148800536d"
      },
      "execution_count": 44,
      "outputs": [
        {
          "output_type": "stream",
          "name": "stdout",
          "text": [
            "{1, 2, 3, 4, 5}\n"
          ]
        }
      ]
    },
    {
      "cell_type": "markdown",
      "source": [
        "20.  Write a code to find the intersection of two sets {1, 2, 3} and {2, 3, 4}."
      ],
      "metadata": {
        "id": "vkaKsEqQ9fy0"
      }
    },
    {
      "cell_type": "code",
      "source": [
        "# Define the sets\n",
        "set1 = {1, 2, 3}\n",
        "set2 = {2, 3, 4}\n",
        "\n",
        "# Find the intersection of the two sets\n",
        "intersection_set = set1 & set2\n",
        "\n",
        "# Print the intersection of the sets\n",
        "print(intersection_set)\n"
      ],
      "metadata": {
        "colab": {
          "base_uri": "https://localhost:8080/"
        },
        "id": "ocnoSVav9kKd",
        "outputId": "3f3ec16e-e9ed-40be-90e7-8e0f11c730a7"
      },
      "execution_count": 45,
      "outputs": [
        {
          "output_type": "stream",
          "name": "stdout",
          "text": [
            "{2, 3}\n"
          ]
        }
      ]
    },
    {
      "cell_type": "markdown",
      "source": [
        "21.  Write a code to create a dictionary with the keys \"name\", \"age\", and \"city\", and print it."
      ],
      "metadata": {
        "id": "jtUsfzyz9p4c"
      }
    },
    {
      "cell_type": "code",
      "source": [
        "# Create the dictionary\n",
        "my_dict = {\n",
        "    \"name\": \"Akansha\",\n",
        "    \"age\": 25,\n",
        "    \"city\": \"Delhi\"\n",
        "}\n",
        "\n",
        "# Print the dictionary\n",
        "print(my_dict)\n"
      ],
      "metadata": {
        "colab": {
          "base_uri": "https://localhost:8080/"
        },
        "id": "bbhFasda9uLU",
        "outputId": "4ec860bc-45f2-4c73-9ffd-703e9567a683"
      },
      "execution_count": 46,
      "outputs": [
        {
          "output_type": "stream",
          "name": "stdout",
          "text": [
            "{'name': 'Akansha', 'age': 25, 'city': 'Delhi'}\n"
          ]
        }
      ]
    },
    {
      "cell_type": "markdown",
      "source": [
        "22. Write a code to add a new key-value pair \"country\": \"USA\" to the dictionary {'name': 'John', 'age': 25}."
      ],
      "metadata": {
        "id": "aQYRuNqD95fV"
      }
    },
    {
      "cell_type": "code",
      "source": [
        "# Define the dictionary\n",
        "my_dict = {'name': 'John', 'age': 25}\n",
        "\n",
        "# Add the new key-value pair\n",
        "my_dict['country'] = 'USA'\n",
        "\n",
        "# Print the updated dictionary\n",
        "print(my_dict)\n"
      ],
      "metadata": {
        "colab": {
          "base_uri": "https://localhost:8080/"
        },
        "id": "Sw_kPRh399Ik",
        "outputId": "d8aa03e4-1e86-4b33-d6c1-74c331eaf371"
      },
      "execution_count": 47,
      "outputs": [
        {
          "output_type": "stream",
          "name": "stdout",
          "text": [
            "{'name': 'John', 'age': 25, 'country': 'USA'}\n"
          ]
        }
      ]
    },
    {
      "cell_type": "markdown",
      "source": [
        "23. Write a code to access the value associated with the key \"name\" in the dictionary {'name': 'Alice', 'age': 30}."
      ],
      "metadata": {
        "id": "Me7DM7Q7-EKk"
      }
    },
    {
      "cell_type": "code",
      "source": [
        "# Define the dictionary\n",
        "my_dict = {'name': 'Alice', 'age': 30}\n",
        "\n",
        "# Access the value associated with the key \"name\"\n",
        "name_value = my_dict['name']\n",
        "\n",
        "# Print the value\n",
        "print(name_value)\n"
      ],
      "metadata": {
        "colab": {
          "base_uri": "https://localhost:8080/"
        },
        "id": "6vbR_l8Q-HST",
        "outputId": "21e04ed7-df63-4f3f-e729-1d31b7c62101"
      },
      "execution_count": 48,
      "outputs": [
        {
          "output_type": "stream",
          "name": "stdout",
          "text": [
            "Alice\n"
          ]
        }
      ]
    },
    {
      "cell_type": "markdown",
      "source": [
        "24.  Write a code to remove the key \"age\" from the dictionary {'name': 'Bob', 'age': 22, 'city': 'New York'}."
      ],
      "metadata": {
        "id": "nZez-uaC-TW1"
      }
    },
    {
      "cell_type": "code",
      "source": [
        "# Define the dictionary\n",
        "my_dict = {'name': 'Bob', 'age': 22, 'city': 'New York'}\n",
        "\n",
        "# Remove the key \"age\"\n",
        "del my_dict['age']\n",
        "\n",
        "# Print the updated dictionary\n",
        "print(my_dict)\n"
      ],
      "metadata": {
        "colab": {
          "base_uri": "https://localhost:8080/"
        },
        "id": "TzoQGyLz-X4U",
        "outputId": "faa16bb5-4554-4eec-d775-6760c70d1199"
      },
      "execution_count": 49,
      "outputs": [
        {
          "output_type": "stream",
          "name": "stdout",
          "text": [
            "{'name': 'Bob', 'city': 'New York'}\n"
          ]
        }
      ]
    },
    {
      "cell_type": "markdown",
      "source": [
        "25. Write a code to check if the key \"city\" exists in the dictionary {'name': 'Alice', 'city': 'Paris'}."
      ],
      "metadata": {
        "id": "YnIIMum4-gGF"
      }
    },
    {
      "cell_type": "code",
      "source": [
        "# Define the dictionary\n",
        "my_dict = {'name': 'Alice', 'city': 'Paris'}\n",
        "\n",
        "# Check if the key \"city\" exists in the dictionary\n",
        "if 'city' in my_dict:\n",
        "    print(\"The key 'city' exists in the dictionary.\")\n",
        "else:\n",
        "    print(\"The key 'city' does not exist in the dictionary.\")\n"
      ],
      "metadata": {
        "colab": {
          "base_uri": "https://localhost:8080/"
        },
        "id": "THRxV_xk-lCD",
        "outputId": "fe387b8d-b882-4994-ca5b-002d2abac863"
      },
      "execution_count": 50,
      "outputs": [
        {
          "output_type": "stream",
          "name": "stdout",
          "text": [
            "The key 'city' exists in the dictionary.\n"
          ]
        }
      ]
    },
    {
      "cell_type": "markdown",
      "source": [
        "26. Write a code to create a list, a tuple, and a dictionary, and print them all."
      ],
      "metadata": {
        "id": "rbcEjWOy-r00"
      }
    },
    {
      "cell_type": "code",
      "source": [
        "# Create a list\n",
        "my_list = [1, 2, 3, 4, 5]\n",
        "\n",
        "# Create a tuple\n",
        "my_tuple = ('apple', 'banana', 'cherry')\n",
        "\n",
        "# Create a dictionary\n",
        "my_dict = {'name': 'Alice', 'age': 30, 'city': 'Paris'}\n",
        "\n",
        "# Print the list, tuple, and dictionary\n",
        "print(\"List:\", my_list)\n",
        "print(\"Tuple:\", my_tuple)\n",
        "print(\"Dictionary:\", my_dict)\n"
      ],
      "metadata": {
        "colab": {
          "base_uri": "https://localhost:8080/"
        },
        "id": "pWObdHqe-vJU",
        "outputId": "83d4a99c-ab0c-4446-d0b2-d243a7f183cb"
      },
      "execution_count": 51,
      "outputs": [
        {
          "output_type": "stream",
          "name": "stdout",
          "text": [
            "List: [1, 2, 3, 4, 5]\n",
            "Tuple: ('apple', 'banana', 'cherry')\n",
            "Dictionary: {'name': 'Alice', 'age': 30, 'city': 'Paris'}\n"
          ]
        }
      ]
    },
    {
      "cell_type": "markdown",
      "source": [
        "27.  Write a code to create a list of 5 random numbers between 1 and 100, sort it in ascending order, and print the\n",
        "result.(replaced)"
      ],
      "metadata": {
        "id": "nQ7Xb8Yp-1Dk"
      }
    },
    {
      "cell_type": "code",
      "source": [
        "import random\n",
        "\n",
        "# Create a list of 5 random numbers between 1 and 100\n",
        "random_numbers = [random.randint(1, 100) for _ in range(5)]\n",
        "\n",
        "# Sort the list in ascending order\n",
        "random_numbers.sort()\n",
        "\n",
        "# Print the sorted list\n",
        "print(\"Sorted list of random numbers:\", random_numbers)\n"
      ],
      "metadata": {
        "colab": {
          "base_uri": "https://localhost:8080/"
        },
        "id": "HQuHdeCT--40",
        "outputId": "4b8df428-44d6-48ed-88a9-1644d6f00024"
      },
      "execution_count": 52,
      "outputs": [
        {
          "output_type": "stream",
          "name": "stdout",
          "text": [
            "Sorted list of random numbers: [24, 33, 33, 56, 63]\n"
          ]
        }
      ]
    },
    {
      "cell_type": "markdown",
      "source": [
        "28. Write a code to create a list with strings and print the element at the third index"
      ],
      "metadata": {
        "id": "1kqDrQzc_F-d"
      }
    },
    {
      "cell_type": "code",
      "source": [
        "# Create a list with strings\n",
        "my_list = [\"apple\", \"banana\", \"cherry\", \"date\", \"elderberry\"]\n",
        "\n",
        "# Print the element at the third index (index 3)\n",
        "print(my_list[3])\n"
      ],
      "metadata": {
        "colab": {
          "base_uri": "https://localhost:8080/"
        },
        "id": "kpSUJBlG_JSz",
        "outputId": "ce7f31d7-94e8-40af-ca3b-ed6913171057"
      },
      "execution_count": 53,
      "outputs": [
        {
          "output_type": "stream",
          "name": "stdout",
          "text": [
            "date\n"
          ]
        }
      ]
    },
    {
      "cell_type": "markdown",
      "source": [
        "29. Write a code to combine two dictionaries into one and print the result."
      ],
      "metadata": {
        "id": "hTkk8kC__OSE"
      }
    },
    {
      "cell_type": "code",
      "source": [
        "# Define two dictionaries\n",
        "dict1 = {'name': 'Alice', 'age': 25}\n",
        "dict2 = {'city': 'Paris', 'country': 'France'}\n",
        "\n",
        "# Combine the dictionaries using the update() method\n",
        "dict1.update(dict2)\n",
        "\n",
        "# Print the combined dictionary\n",
        "print(dict1)\n"
      ],
      "metadata": {
        "colab": {
          "base_uri": "https://localhost:8080/"
        },
        "id": "K7tOAPO8_UYz",
        "outputId": "aab4d0b4-cc32-4881-bc80-5c47ba8528f4"
      },
      "execution_count": 54,
      "outputs": [
        {
          "output_type": "stream",
          "name": "stdout",
          "text": [
            "{'name': 'Alice', 'age': 25, 'city': 'Paris', 'country': 'France'}\n"
          ]
        }
      ]
    },
    {
      "cell_type": "markdown",
      "source": [
        "30. Write a code to convert a list of strings into a set."
      ],
      "metadata": {
        "id": "vHw_0RU__ZfF"
      }
    },
    {
      "cell_type": "code",
      "source": [
        "# Create a list of strings\n",
        "my_list = [\"apple\", \"banana\", \"cherry\", \"apple\", \"date\"]\n",
        "\n",
        "# Convert the list into a set (duplicates will be removed)\n",
        "my_set = set(my_list)\n",
        "\n",
        "# Print the set\n",
        "print(my_set)\n"
      ],
      "metadata": {
        "colab": {
          "base_uri": "https://localhost:8080/"
        },
        "id": "EmWwJw9y_mFi",
        "outputId": "3963dedf-ebb8-49f2-97dc-524ab3e17f01"
      },
      "execution_count": 55,
      "outputs": [
        {
          "output_type": "stream",
          "name": "stdout",
          "text": [
            "{'banana', 'cherry', 'date', 'apple'}\n"
          ]
        }
      ]
    }
  ]
}